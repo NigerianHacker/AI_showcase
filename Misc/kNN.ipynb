{
 "cells": [
  {
   "cell_type": "markdown",
   "id": "83d20994",
   "metadata": {},
   "source": [
    "# k-Nearest Neighbor"
   ]
  },
  {
   "cell_type": "raw",
   "id": "01accbd5",
   "metadata": {},
   "source": [
    "Implement the k-Nearest Neighbor algorithm with Python!\n",
    "It should be applicable for classification and regression tasks!"
   ]
  },
  {
   "cell_type": "code",
   "execution_count": 1,
   "id": "b1b78408",
   "metadata": {},
   "outputs": [],
   "source": [
    "import numpy as np\n",
    "from sklearn.neighbors import KNeighborsClassifier, KNeighborsRegressor"
   ]
  },
  {
   "cell_type": "markdown",
   "id": "3de8f1a5",
   "metadata": {},
   "source": [
    "## Compare the results with the sklearn kNN algorithm"
   ]
  },
  {
   "cell_type": "code",
   "execution_count": 2,
   "id": "76cd6b19",
   "metadata": {},
   "outputs": [
    {
     "name": "stdout",
     "output_type": "stream",
     "text": [
      "[0] [1] [2]\n"
     ]
    }
   ],
   "source": [
    "# Make your code work with the following inputs:\n",
    "# Use this data as your reference data points and labels\n",
    "\n",
    "# Classification data\n",
    "cl_X = np.arange(0, 9).reshape(9,1)\n",
    "cl_y = np.array([0, 0, 0, 1, 1, 1, 2, 2, 2])\n",
    "#print('Classification input:\\n', X, '\\tShape:', cl_X.shape)\n",
    "#print('Classification labels:\\n', y, '\\tShape:', cl_y.shape)\n",
    "\n",
    "\n",
    "# Regression data\n",
    "r_X = np.array([[1, 2], [2, 4], [3, 6], [4, 8], [5, 10]])\n",
    "r_y = np.array([1, 2, 3, 4, 5])\n",
    "# print('Regression input:\\n', r_X, '\\tShape:', r_X.shape)\n",
    "# print('Regression labels:\\n', r_y, '\\tShape:', r_y.shape)\n",
    "\n",
    "\n",
    "# Use the following list to test your code for classification\n",
    "cl_X_test = np.array([[2.1], [5.2], [7.2]])\n",
    "\n",
    "r_X_test = np.array([[2.1, 5.1], [2.6, 6.2]])\n",
    "\n",
    "# sklearn comparison\n",
    "neigh = KNeighborsClassifier()\n",
    "neigh.fit(cl_X,cl_y)\n",
    "print(neigh.predict([[2.1]]),neigh.predict([[5.2]]),neigh.predict([[7.2]]))"
   ]
  },
  {
   "cell_type": "code",
   "execution_count": 62,
   "id": "f76d236e",
   "metadata": {},
   "outputs": [
    {
     "name": "stdout",
     "output_type": "stream",
     "text": [
      "0\n",
      "1\n",
      "class prediction for 7.2:  2\n",
      "Regression prediction for [2,1,5.1]:  2.2414313013431406\n"
     ]
    }
   ],
   "source": [
    "# classification\n",
    "import numpy as np\n",
    "import math \n",
    "import statistics as stats\n",
    "import scipy\n",
    "\n",
    "class KNN:\n",
    "    def __init__(self,k):\n",
    "        self.k = k\n",
    "        \n",
    "    def fit(self,X,y):\n",
    "        self.X_train = tuple(X)\n",
    "        self.y_train = y\n",
    "        self.dic = list(zip(X,y))\n",
    "        self.sum = 0\n",
    "        \n",
    "        \n",
    "    def distance(self,old,new):\n",
    "        return abs(scipy.spatial.distance.euclidean(old,new))\n",
    "        \n",
    "    def findneighbors(self, new_point):\n",
    "        neighbor_arr = []\n",
    "        for i in (self.X_train):\n",
    "            dist = self.distance(new_point,i) #abs(new_point - i)\n",
    "            neighbor_arr.append([self.dic[i],dist])\n",
    "        neighbor_arr = sorted(neighbor_arr, key = lambda x: x[1])\n",
    "        return neighbor_arr[0:self.k]\n",
    "    \n",
    "    def class_predict(self, new_point):\n",
    "        x = self.findneighbors(new_point)\n",
    "        y = []\n",
    "        for i in x:\n",
    "            y.append(i[0][1])\n",
    "        return stats.mode(y)\n",
    "    \n",
    "    def reg_predict(self,new_value):\n",
    "        x = self.sfindneighbors(new_value)\n",
    "        return sum(x)\n",
    "    \n",
    "    '''def sfindneighbors(self, new_point):\n",
    "        neighbor_arr =[]\n",
    "        counter = 0\n",
    "        for i in self.dic:\n",
    "            dist = 1/self.distance(new_point,i[0])\n",
    "            neighbor_arr.append((i,dist))\n",
    "            counter +=1\n",
    "        neighbor_arr = sorted(neighbor_arr, key = lambda x: x[1])\n",
    "        return neighbor_arr [self.k:]'''\n",
    "    \n",
    "    \n",
    "    def sfindneighbors(self, new_point):\n",
    "        neighbor_arr =[]\n",
    "        counter = 0\n",
    "        self.sum = 0\n",
    "        kek=0\n",
    "        for i in self.dic:\n",
    "            dist = self.distance(new_point,i[0])\n",
    "            neighbor_arr.append((self.dic[counter],dist))\n",
    "            counter +=1\n",
    "        neighbor_arr = sorted(neighbor_arr, key = lambda x: x[1])\n",
    "        neighbor_arr = neighbor_arr[0:self.k]\n",
    "        \n",
    "            \n",
    "        y = []\n",
    "        for i in neighbor_arr:\n",
    "            self.sum += 1/i[1]\n",
    "            \n",
    "        for i in neighbor_arr:\n",
    "            normalized_weights = (1/i[1]) / self.sum\n",
    "            total = normalized_weights * i[0][1]\n",
    "            y.append(total)\n",
    "            \n",
    "        return y\n",
    "            \n",
    "            \n",
    "            \n",
    "        \n",
    "        \n",
    "        \n",
    "    ''' \n",
    "        neighbor_arr =[]\n",
    "        counter = 0\n",
    "        self.sum = 0\n",
    "        kek=0\n",
    "        for i in self.dic:\n",
    "            dist = self.distance(new_point,i[0]) #abs(new_point - i)\n",
    "            self.sum += 1/dist\n",
    "        for i in self.dic:\n",
    "            dist = self.distance(new_point,i[0])\n",
    "            normalized_weights = (1/dist)/self.sum\n",
    "            kek = normalized_weights* i[1]\n",
    "            neighbor_arr.append((self.dic[counter],kek))\n",
    "            counter +=1\n",
    "        \n",
    "        neighbor_arr = sorted(neighbor_arr, key = lambda x: x[1])\n",
    "        return neighbor_arr# [0:self.k]'''\n",
    "\n",
    "\n",
    "    \n",
    "    \n",
    "cl_X = [0,1,2,3,4,5,6,7,8]\n",
    "cl_y = [0, 0, 0, 1, 1, 1, 2, 2, 2]\n",
    "Class = KNN(4)\n",
    "Class.fit(cl_X,cl_y)\n",
    "#print(Class.findneighbors(2.1))\n",
    "print(Class.class_predict(2.1))\n",
    "print(Class.class_predict(5.2))\n",
    "print(\"class prediction for 7.2: \", Class.class_predict(7.2))\n",
    "\n",
    "r_X = [[1, 2], [2, 4], [3, 6], [4, 8], [5, 10]]\n",
    "r_y = [1, 2, 3, 4, 5]\n",
    "reg = KNN(3)\n",
    "reg.fit(r_X,r_y)\n",
    "#print(reg.sfindneighbors([2.1,5.1]))\n",
    "print(\"Regression prediction for [2,1,5.1]: \",reg.reg_predict([2.1,5.1]))\n",
    "\n",
    "#print(reg.sfindneighbors([2.6,6.2]))\n",
    "#print(reg.reg_predict([2.6,6.2]))\n",
    "\n",
    "#reg2 = KNN(4)\n",
    "#reg2.fit(r_X,r_y)\n",
    "#print(reg.reg_predict([2.1,5.1]))"
   ]
  },
  {
   "cell_type": "code",
   "execution_count": 4,
   "id": "1c588159",
   "metadata": {},
   "outputs": [
    {
     "name": "stdout",
     "output_type": "stream",
     "text": [
      "weights = uniform: [2. 3.]\n",
      "weights = distance: [2.2414313 3.       ]\n"
     ]
    }
   ],
   "source": [
    "# sklearn comparison\n",
    "r_X = np.array([[1, 2], [2, 4], [3, 6], [4, 8], [5, 10]])\n",
    "r_y = np.array([1, 2, 3, 4, 5])\n",
    "r_X_test = np.array([[2.1, 5.1], [2.6, 6.2]])\n",
    "regr = KNeighborsRegressor(n_neighbors=3,weights = 'uniform')\n",
    "regr.fit(r_X,r_y)\n",
    "print(\"weights = uniform:\",regr.predict(r_X_test))\n",
    "redi = KNeighborsRegressor(n_neighbors=3,weights= 'distance')\n",
    "redi.fit(r_X,r_y)\n",
    "print(\"weights = distance:\", redi.predict(r_X_test))\n",
    "\n",
    "#Mine works for weights = 'uniform', if weights = 'distance' is needed. please leave a comment so i can do it."
   ]
  }
 ],
 "metadata": {
  "kernelspec": {
   "display_name": "Python 3",
   "language": "python",
   "name": "python3"
  },
  "language_info": {
   "codemirror_mode": {
    "name": "ipython",
    "version": 3
   },
   "file_extension": ".py",
   "mimetype": "text/x-python",
   "name": "python",
   "nbconvert_exporter": "python",
   "pygments_lexer": "ipython3",
   "version": "3.9.0"
  }
 },
 "nbformat": 4,
 "nbformat_minor": 5
}
