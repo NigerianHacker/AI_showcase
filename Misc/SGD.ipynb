{
 "cells": [
  {
   "cell_type": "markdown",
   "id": "c6fb176d",
   "metadata": {},
   "source": [
    "# Stochastic Gradient Descent - Linear Regression"
   ]
  },
  {
   "cell_type": "raw",
   "id": "18d9da9a",
   "metadata": {},
   "source": [
    "Implement the Stochastic Gradient Descent (SGD) and update the weights of a linear regression model"
   ]
  },
  {
   "cell_type": "markdown",
   "id": "10609e29",
   "metadata": {},
   "source": [
    "## Data for the linear regression model"
   ]
  },
  {
   "cell_type": "raw",
   "id": "d1404413",
   "metadata": {},
   "source": [
    "Use the following data for the training and evaluation of your model"
   ]
  },
  {
   "cell_type": "code",
   "execution_count": 38,
   "id": "2731c87b",
   "metadata": {},
   "outputs": [],
   "source": [
    "import numpy as np\n",
    "from sklearn.linear_model import SGDRegressor\n",
    "from sklearn.pipeline import make_pipeline\n",
    "from sklearn.preprocessing import StandardScaler"
   ]
  },
  {
   "cell_type": "code",
   "execution_count": 39,
   "id": "55d4b730",
   "metadata": {},
   "outputs": [
    {
     "name": "stdout",
     "output_type": "stream",
     "text": [
      "[0.40067454 0.47262097 0.12670449]\n",
      "data set X\n",
      " [[5 3 3]\n",
      " [3 2 0]\n",
      " [6 8 8]\n",
      " [0 3 4]\n",
      " [0 0 9]\n",
      " [4 5 3]\n",
      " [6 3 0]\n",
      " [9 4 6]\n",
      " [7 5 7]\n",
      " [3 1 9]\n",
      " [0 5 2]\n",
      " [2 4 3]\n",
      " [6 6 4]\n",
      " [6 4 5]\n",
      " [1 5 6]]\n",
      "labels y\n",
      " [4.03687902 2.39109502 7.52842956 2.22160481 1.3973937  4.60950238\n",
      " 4.11109351 6.54301188 6.33446805 3.02737781 2.87385897 3.31139534\n",
      " 5.9721888  5.22251394 3.74349917]\n"
     ]
    }
   ],
   "source": [
    "# Data points\n",
    "data_amount = 15\n",
    "max_num = 10\n",
    "X = np.random.randint(max_num, size=(data_amount, 3))\n",
    "\n",
    "# We generate them by \"knowing\" the output weights for this example (this is not the case for real data!)\n",
    "final_weights = np.random.rand(X.shape[1])\n",
    "final_weights = final_weights / np.sum(final_weights)\n",
    "#print(final_weights)\n",
    "\n",
    "final_bias = 0.2\n",
    "\n",
    "# Corresponding labels\n",
    "random_noise = np.random.rand(X.shape[0]) / 7.5 # ranges from 0-1. We divide that by 7.5 to not get to much noise in here\n",
    "y = np.dot(final_weights, X.T) + final_bias + random_noise\n",
    "\n",
    "#print('data set X\\n', X)\n",
    "#print('labels y\\n', y)"
   ]
  },
  {
   "cell_type": "markdown",
   "id": "daec3881",
   "metadata": {},
   "source": [
    "# Training and test data"
   ]
  },
  {
   "cell_type": "code",
   "execution_count": 40,
   "id": "a3b736c2",
   "metadata": {},
   "outputs": [
    {
     "name": "stdout",
     "output_type": "stream",
     "text": [
      "[[5 3 3]\n",
      " [3 2 0]\n",
      " [6 8 8]\n",
      " [0 3 4]\n",
      " [0 0 9]\n",
      " [4 5 3]\n",
      " [6 3 0]\n",
      " [9 4 6]\n",
      " [7 5 7]\n",
      " [3 1 9]\n",
      " [0 5 2]]\n",
      "[4.03687902 2.39109502 7.52842956 2.22160481 1.3973937  4.60950238\n",
      " 4.11109351 6.54301188 6.33446805 3.02737781 2.87385897]\n",
      "[[2 4 3]\n",
      " [6 6 4]\n",
      " [6 4 5]\n",
      " [1 5 6]]\n",
      "[3.31139534 5.9721888  5.22251394 3.74349917]\n",
      "11\n"
     ]
    }
   ],
   "source": [
    "train_len = int(data_amount * 0.75)\n",
    "\n",
    "# We train with the following data\n",
    "X_train = X[:train_len]\n",
    "y_train = y[:train_len]\n",
    "\n",
    "# We test / evaluate with the following data\n",
    "X_test = X[train_len:]\n",
    "y_test = y[train_len:]\n",
    "\n",
    "#print(X_train)\n",
    "#print(y_train)\n",
    "#print(X_test)\n",
    "#print(y_test)\n",
    "#print(train_len)"
   ]
  },
  {
   "cell_type": "markdown",
   "id": "331bd43e",
   "metadata": {},
   "source": [
    "## Information about the model"
   ]
  },
  {
   "cell_type": "code",
   "execution_count": 41,
   "id": "29c436eb",
   "metadata": {},
   "outputs": [
    {
     "name": "stdout",
     "output_type": "stream",
     "text": [
      "[0.18069874 0.62089145 0.47324743]\n",
      "[1]\n"
     ]
    }
   ],
   "source": [
    "# We set the inital weights randomly\n",
    "weights = np.random.rand(X.shape[1])\n",
    "\n",
    "# The bias value is set to 1 initially\n",
    "bias = np.array([1])\n",
    "#print(weights)\n",
    "#print(bias)"
   ]
  },
  {
   "cell_type": "markdown",
   "id": "71627d25",
   "metadata": {},
   "source": [
    "### Some more information"
   ]
  },
  {
   "cell_type": "markdown",
   "id": "9e60e4ed",
   "metadata": {},
   "source": [
    "We know the regression equation:\n",
    "\n",
    "$y_{pred}= w_1x_1 + w_2x_2 + \\ldots + w_nx_n + b$"
   ]
  },
  {
   "cell_type": "code",
   "execution_count": 42,
   "id": "academic-coaching",
   "metadata": {},
   "outputs": [
    {
     "name": "stdout",
     "output_type": "stream",
     "text": [
      "[[2 6 6 1]\n",
      " [4 6 4 5]\n",
      " [3 4 5 6]]\n",
      "[0.18069874 0.62089145 0.47324743]\n"
     ]
    }
   ],
   "source": [
    "#print(X_test.T)\n",
    "#print(weights)"
   ]
  },
  {
   "cell_type": "code",
   "execution_count": 43,
   "id": "7f6c5abb",
   "metadata": {},
   "outputs": [
    {
     "name": "stdout",
     "output_type": "stream",
     "text": [
      "Outputs for our untrained model: [5.26470558 7.70253086 6.93399538 7.12464059]\n",
      "Outputs for the final model: [3.27194644 5.94659102 5.12805356 3.72400634]\n"
     ]
    }
   ],
   "source": [
    "# What are the current results of the untrained model?\n",
    "y_untrained = np.dot(weights, X_test.T) + bias\n",
    "#print('Outputs for our untrained model:', y_untrained)\n",
    "\n",
    "# What are the results of the final model (that we want to achieve by updating the weights by the Stochastic gradient descent method)\n",
    "y_final = np.dot(final_weights, X_test.T) + final_bias\n",
    "#print('Outputs for the final model:', y_final)"
   ]
  },
  {
   "cell_type": "markdown",
   "id": "39c3c815",
   "metadata": {},
   "source": [
    "### Loss function"
   ]
  },
  {
   "cell_type": "markdown",
   "id": "6e5958c9",
   "metadata": {},
   "source": [
    "We want to use the mean squarred error to calculate the loss for the model outputs which is defined as follows:\n",
    "\n",
    "$$MSE = \\frac{1}{n}\\sum_{i=1}^n (y_i-y_{i_{pred}})^2$$"
   ]
  },
  {
   "cell_type": "code",
   "execution_count": 44,
   "id": "d362b4e4",
   "metadata": {},
   "outputs": [
    {
     "name": "stdout",
     "output_type": "stream",
     "text": [
      "[3.31139534 5.9721888  5.22251394 3.74349917]\n",
      "[5.26470558 7.70253086 6.93399538 7.12464059]\n"
     ]
    }
   ],
   "source": [
    "mse = lambda y, y_pred: np.mean(np.sum((y-y_pred)**2))\n",
    "#print(y_test)\n",
    "#print(y_untrained)"
   ]
  },
  {
   "cell_type": "code",
   "execution_count": 45,
   "id": "c81268ef",
   "metadata": {},
   "outputs": [
    {
     "name": "stdout",
     "output_type": "stream",
     "text": [
      "The loss of the untrained model is: 21.170790532028754\n",
      "The loss of the final model is: 0.011514195561751869\n"
     ]
    }
   ],
   "source": [
    "# In our example the loss for our untrained model is:\n",
    "loss_untrained = mse(y_test, y_untrained)\n",
    "#print('The loss of the untrained model is:', loss_untrained)\n",
    "\n",
    "# Loss for the final model\n",
    "loss_final = mse(y_test, y_final)\n",
    "#print('The loss of the final model is:', loss_final)"
   ]
  },
  {
   "cell_type": "markdown",
   "id": "a2854ef6",
   "metadata": {},
   "source": [
    "## Your stochastic gradient descent implementation to optimize the weights of your model"
   ]
  },
  {
   "cell_type": "code",
   "execution_count": 46,
   "id": "decf2db5",
   "metadata": {},
   "outputs": [
    {
     "name": "stdout",
     "output_type": "stream",
     "text": [
      "test for MSE: 1.0\n",
      "[1]\n"
     ]
    }
   ],
   "source": [
    "# Summary on what we know so far:\n",
    "\n",
    "# We know the loss function: Variable 'mse' (Mean squared error)\n",
    "# We know the initial weights that we want to optimize: variable 'weights'\n",
    "# We know the initial bias value: variable 'bias'\n",
    "#print(\"test for MSE:\", mse(3,4))\n",
    "#print(bias)"
   ]
  },
  {
   "cell_type": "code",
   "execution_count": 63,
   "id": "sealed-flour",
   "metadata": {},
   "outputs": [
    {
     "name": "stdout",
     "output_type": "stream",
     "text": [
      "bias is 0.4611143967264565 .       weights are [0.37262727 0.46325658 0.13920522]\n",
      "5.24593044339942\n",
      "5.222513942721454\n"
     ]
    }
   ],
   "source": [
    "# Use the training data to optimize the weights of the linear regression model\n",
    "import random\n",
    "# use these variables for your sgd implementation\n",
    "learning_rate = 0.005\n",
    "iterations = 1000\n",
    "\n",
    "# YOUR CODE FOR THE STOCHASTIC GRADIENT DESCENT IMPLEMENTATION\n",
    "class SGD:\n",
    "    def __init__(self,y,z):\n",
    "        self.iter = 1000\n",
    "        self.learning_rate = 0.005\n",
    "        self.bias = 1\n",
    "        self.weights = y\n",
    "        self.train_len = z\n",
    "        self.sum = 0\n",
    "        \n",
    "        \n",
    "    def fit(self,X_train,y_train):\n",
    "        self.X_train = X_train\n",
    "        self.y_train = y_train\n",
    "        self.train = list(zip(self.X_train,self.y_train))\n",
    "     \n",
    "    def get_updated_y(self, x_value):\n",
    "        predicted = self.bias\n",
    "        for i in range(3):\n",
    "            predicted += (self.weights[i] * x_value[i])\n",
    "      \n",
    "        return predicted\n",
    "    \n",
    "    def predict(self,X):\n",
    "        for iterations in range(self.iter):\n",
    "            for i in range(len(self.X_train[1])):    # 3 x values\n",
    "                randint = random.randint(0,(train_len-1))\n",
    "                test = self.train[randint]\n",
    "                \n",
    "                if i == 0:\n",
    "                    # update bias here\n",
    "                    a = 2 * ((self.get_updated_y(test[0])) - test[1])\n",
    "                    step_size = self.learning_rate * a\n",
    "                    self.bias = self.bias - step_size\n",
    "                    continue\n",
    "    \n",
    "                \n",
    "                y_new = self.get_updated_y(test[0])\n",
    "                b = -2 * test[0][i] *(test[1] - y_new) # b = gradient, a = intercept/bias\n",
    "                step_size = self.learning_rate * b\n",
    "                self.weights[i] -= step_size\n",
    "\n",
    "        \n",
    "            \n",
    "\n",
    "           \n",
    "        #print(\"bias is\",self.bias,\".      \",\"weights are\", self.weights)\n",
    "        value = np.dot(self.weights, X.T) + self.bias\n",
    "        \n",
    "        return value\n",
    "            \n",
    "                \n",
    "                \n",
    "    \n",
    "    \n",
    "    \n",
    "SGD1 = SGD(weights,train_len)\n",
    "SGD1.fit(X_train,y_train)\n",
    "#print(SGD1.predict(X_test[2]))\n",
    "#print(y_test[2])\n",
    "#print(mse(SGD1.predict(X_test[1]), y_test[0]))"
   ]
  },
  {
   "cell_type": "markdown",
   "id": "eda1a991",
   "metadata": {},
   "source": [
    "## Compare the results with the Test data"
   ]
  },
  {
   "cell_type": "code",
   "execution_count": 11,
   "id": "607bfcec",
   "metadata": {},
   "outputs": [
    {
     "name": "stdout",
     "output_type": "stream",
     "text": [
      "[4.52838931 3.01560947 2.41482485 3.65803938]\n",
      "[4.65374608 3.08426877 2.48621388 3.74795434]\n",
      "[[2 4 5]\n",
      " [1 4 2]\n",
      " [5 0 4]\n",
      " [3 0 7]]\n"
     ]
    }
   ],
   "source": [
    "from sklearn.linear_model import SGDRegressor\n",
    "skSGD = SGDRegressor(learning_rate='constant',eta0=0.005)\n",
    "skSGD.fit(X_train,y_train)\n",
    "#print(skSGD.predict(X_test))\n",
    "#print(y_test)\n",
    "#print(X_test)\n",
    "print(\"loaded SGD\")"
   ]
  }
 ],
 "metadata": {
  "kernelspec": {
   "display_name": "Python 3",
   "language": "python",
   "name": "python3"
  },
  "language_info": {
   "codemirror_mode": {
    "name": "ipython",
    "version": 3
   },
   "file_extension": ".py",
   "mimetype": "text/x-python",
   "name": "python",
   "nbconvert_exporter": "python",
   "pygments_lexer": "ipython3",
   "version": "3.9.0"
  }
 },
 "nbformat": 4,
 "nbformat_minor": 5
}
